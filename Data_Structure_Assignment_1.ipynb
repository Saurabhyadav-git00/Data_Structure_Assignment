{
  "nbformat": 4,
  "nbformat_minor": 0,
  "metadata": {
    "colab": {
      "provenance": [],
      "authorship_tag": "ABX9TyNfREvOkx+5ugWkkGhFaroF",
      "include_colab_link": true
    },
    "kernelspec": {
      "name": "python3",
      "display_name": "Python 3"
    },
    "language_info": {
      "name": "python"
    }
  },
  "cells": [
    {
      "cell_type": "markdown",
      "metadata": {
        "id": "view-in-github",
        "colab_type": "text"
      },
      "source": [
        "<a href=\"https://colab.research.google.com/github/Saurabhyadav-git00/Data_Structure_Assignment/blob/main/Data_Structure_Assignment_1.ipynb\" target=\"_parent\"><img src=\"https://colab.research.google.com/assets/colab-badge.svg\" alt=\"Open In Colab\"/></a>"
      ]
    },
    {
      "cell_type": "code",
      "execution_count": 2,
      "metadata": {
        "colab": {
          "base_uri": "https://localhost:8080/"
        },
        "id": "4BE0c9Xs2JGC",
        "outputId": "9f0f93da-2a4c-4ba5-9222-3cfdfbc73619"
      },
      "outputs": [
        {
          "output_type": "stream",
          "name": "stdout",
          "text": [
            "dlroW olleH\n"
          ]
        }
      ],
      "source": [
        "# 1. Write a code to reverse a string ?\n",
        "\n",
        "text = \"Hello World\"\n",
        "reversed_text = text[::-1]\n",
        "print(reversed_text)\n"
      ]
    },
    {
      "cell_type": "code",
      "source": [
        "#2. Write a code to count the number of vowels in a string?\n",
        "\n",
        "def count_vowels(text):\n",
        "  vowels = \"aeiouAEIOU\"\n",
        "  count = 0\n",
        "  for char in text:\n",
        "    if char in vowels:\n",
        "      count += 1\n",
        "  return count\n",
        "\n",
        "text = \"Hello World\"\n",
        "result = count_vowels(string)\n",
        "print(result)\n"
      ],
      "metadata": {
        "colab": {
          "base_uri": "https://localhost:8080/"
        },
        "id": "6EpKxTI43ziO",
        "outputId": "f4d3fd61-f2c6-497d-9b67-806687760886"
      },
      "execution_count": 6,
      "outputs": [
        {
          "output_type": "stream",
          "name": "stdout",
          "text": [
            "3\n"
          ]
        }
      ]
    },
    {
      "cell_type": "code",
      "source": [
        "#3. Write a code to check if a given string is a palindrome or not?\n",
        "\n",
        "def is_palindrome(text):\n",
        "  reversed_text = text[::-1]\n",
        "  if text == reversed_text:\n",
        "    return True\n",
        "  else:\n",
        "    return False\n",
        "\n",
        "text = \"madam\"\n",
        "result = is_palindrome(text)\n",
        "print(result)"
      ],
      "metadata": {
        "colab": {
          "base_uri": "https://localhost:8080/"
        },
        "id": "vtSmuqwx6K5v",
        "outputId": "01a4907d-dac1-43ee-c0f6-6880fa32b8b0"
      },
      "execution_count": 11,
      "outputs": [
        {
          "output_type": "stream",
          "name": "stdout",
          "text": [
            "True\n"
          ]
        }
      ]
    },
    {
      "cell_type": "code",
      "source": [
        "#4. Write a code to check if two given strings are anagrams of each other?\n",
        "\n",
        "def are_anagrams(text1, text2):\n",
        "  text1 = text1.lower()\n",
        "  text2 = text2.lower()\n",
        "\n",
        "  return sorted(text1) == sorted(text2)\n",
        "\n",
        "text1 = \"listen\"\n",
        "text2 = \"silent\"\n",
        "if are_anagrams(text1, text2):\n",
        "  print(f\"{text1} and {text2} are anagrams.\")\n",
        "else:\n",
        "  print(f\"{text1} and {text2} are not anagrams.\")\n",
        "\n",
        "\n",
        "\n"
      ],
      "metadata": {
        "colab": {
          "base_uri": "https://localhost:8080/"
        },
        "id": "ObNEs8857BGx",
        "outputId": "17f54d8d-332d-4a32-90d9-354b29b9bd80"
      },
      "execution_count": 15,
      "outputs": [
        {
          "output_type": "stream",
          "name": "stdout",
          "text": [
            "listen and silent are anagrams.\n"
          ]
        }
      ]
    },
    {
      "cell_type": "code",
      "source": [
        "#5. Write a code to find all occurrences of a given substring within another string.\n",
        "\n",
        "def find_all_occurrences(text, sub):\n",
        "    start = 0\n",
        "    positions = []\n",
        "\n",
        "    while True:\n",
        "        index = text.find(sub, start)\n",
        "        if index == -1:\n",
        "          break\n",
        "        positions.append(index)\n",
        "        start = index + 1  # Move to next character after current match\n",
        "\n",
        "    return positions\n",
        "\n",
        "text = \"This is an island in this world\"\n",
        "sub = \"is\"\n",
        "positions = find_all_occurrences(text, sub)\n",
        "print(f\"All positions of '{sub}':\", positions)\n"
      ],
      "metadata": {
        "colab": {
          "base_uri": "https://localhost:8080/"
        },
        "id": "MYh_HB7r8ox1",
        "outputId": "eb5e6fbc-d032-4719-c532-dbf21a9e2b7c"
      },
      "execution_count": 19,
      "outputs": [
        {
          "output_type": "stream",
          "name": "stdout",
          "text": [
            "All positions of 'is': [2, 5, 11, 23]\n"
          ]
        }
      ]
    },
    {
      "cell_type": "code",
      "source": [
        "#6. Write a code to perform basic string compression using the counts of repeated characters.\n",
        "\n",
        "def compress_string(text):\n",
        "  compressed = \"\"\n",
        "  count = 1\n",
        "\n",
        "  for i in range(1, len(text)):\n",
        "    if text[i] == text[i - 1]:\n",
        "      count += 1\n",
        "    else:\n",
        "      compressed += text[i - 1] + str(count)\n",
        "      count = 1\n",
        "\n",
        "\n",
        "  compressed += text[-1] + str(count)\n",
        "  return compressed\n",
        "\n",
        "\n",
        "input_str = \"abbccc\"\n",
        "compressed_str = compress_string(input_str)\n",
        "print(\"Compressed string:\", compressed_str)\n",
        "\n",
        "\n"
      ],
      "metadata": {
        "colab": {
          "base_uri": "https://localhost:8080/"
        },
        "id": "Xi5ZEUw1-B1H",
        "outputId": "b574452f-9a8e-4860-ed55-5b873fff4421"
      },
      "execution_count": 7,
      "outputs": [
        {
          "output_type": "stream",
          "name": "stdout",
          "text": [
            "Compressed string: a1b2c3\n"
          ]
        }
      ]
    },
    {
      "cell_type": "code",
      "source": [
        "#7.Write a code to determine if a string has all unique characters.\n",
        "\n",
        "def has_unique_characters(string):\n",
        "  char_set = set()\n",
        "  for char in string:\n",
        "    if char in char_set:\n",
        "      return False\n",
        "    char_set.add(char)\n",
        "    return True\n",
        "\n",
        "string = \"hello\"\n",
        "print(\"All characters are in the string:\", has_unique_characters(string))"
      ],
      "metadata": {
        "colab": {
          "base_uri": "https://localhost:8080/"
        },
        "id": "PWhD8IbDreAF",
        "outputId": "35476ad4-42d4-48ed-bfdf-53521f7d6546"
      },
      "execution_count": 8,
      "outputs": [
        {
          "output_type": "stream",
          "name": "stdout",
          "text": [
            "All characters are in the string: True\n"
          ]
        }
      ]
    },
    {
      "cell_type": "code",
      "source": [
        "#8. Write a code to convert a given string to uppercase or lowercase.\n",
        "\n",
        "def convert_case(text):\n",
        "  uppercase = text.upper()\n",
        "  lowercase = text.lower()\n",
        "  return uppercase, lowercase\n",
        "\n",
        "text = \"Hello, World!\"\n",
        "uppercase, lowercase = convert_case(text)\n",
        "\n",
        "print(\"Uppercase:\", uppercase)\n",
        "print(\"Lowercase:\", lowercase)"
      ],
      "metadata": {
        "colab": {
          "base_uri": "https://localhost:8080/"
        },
        "id": "EBvNcN7Jtpkn",
        "outputId": "5b34d685-3166-4a75-92d6-66851a921e75"
      },
      "execution_count": 9,
      "outputs": [
        {
          "output_type": "stream",
          "name": "stdout",
          "text": [
            "Uppercase: HELLO, WORLD!\n",
            "Lowercase: hello, world!\n"
          ]
        }
      ]
    },
    {
      "cell_type": "code",
      "source": [
        "#9. Write a code to count the number of words in a string.\n",
        "\n",
        "def count_words(string):\n",
        "\n",
        "  #split the string by whitespace\n",
        "  words = string.split()\n",
        "\n",
        "  #gives the total number of words\n",
        "  return len(words)\n",
        "\n",
        "text = \"This is a sample string with 5 words.\"\n",
        "word_count = count_words(text)\n",
        "print(\"Number of words:\", word_count)"
      ],
      "metadata": {
        "colab": {
          "base_uri": "https://localhost:8080/"
        },
        "id": "gKKJT01mutzK",
        "outputId": "cc1f1397-e2cd-4444-ef73-6750a86b8997"
      },
      "execution_count": 10,
      "outputs": [
        {
          "output_type": "stream",
          "name": "stdout",
          "text": [
            "Number of words: 8\n"
          ]
        }
      ]
    },
    {
      "cell_type": "code",
      "source": [
        "#10. Write a code to concatenate two strings without using the + operator.\n",
        "\n",
        "def concatenate_strings(string1, string2):\n",
        "  return ''.join([string1, string2])\n",
        "\n",
        "text1 = \"Hello\"\n",
        "text2 = \"World\"\n",
        "result = concatenate_strings(text1, text2)\n",
        "print(\"Concatenated string:\", result)"
      ],
      "metadata": {
        "colab": {
          "base_uri": "https://localhost:8080/"
        },
        "id": "mRXRzaaRvvBX",
        "outputId": "e349e28d-529f-432a-80e9-cae0a8794d09"
      },
      "execution_count": 14,
      "outputs": [
        {
          "output_type": "stream",
          "name": "stdout",
          "text": [
            "Concatenated string: HelloWorld\n"
          ]
        }
      ]
    },
    {
      "cell_type": "code",
      "source": [
        "#11. Write a code to remove all occurrences of a specific element from a list.\n",
        "\n",
        "def remove_all_occurrences(lst, element):\n",
        "  return [item for item in lst if item != element]\n",
        "\n",
        "num = [1, 2, 3, 2, 2, 4, 5, 6]\n",
        "element_to_remove = 2\n",
        "\n",
        "result = remove_all_occurrences(num, element_to_remove)\n",
        "print(\"List after removing all occurrences of\", element_to_remove, \":\", result)"
      ],
      "metadata": {
        "colab": {
          "base_uri": "https://localhost:8080/"
        },
        "id": "GpqQpxJoxBBY",
        "outputId": "add8ed83-55d9-4acb-ea46-55e7b161677c"
      },
      "execution_count": 17,
      "outputs": [
        {
          "output_type": "stream",
          "name": "stdout",
          "text": [
            "List after removing all occurrences of 2 : [1, 3, 4, 5, 6]\n"
          ]
        }
      ]
    },
    {
      "cell_type": "code",
      "source": [
        "#12. Implement a code to find the second largest number in a given list of integers.\n",
        "\n",
        "def second_largest(numbers):\n",
        "\n",
        "  #remove duplicates\n",
        "  unique_numbers = list(set(numbers))\n",
        "  if len(unique_numbers) < 2:\n",
        "      return None\n",
        "\n",
        "  unique_numbers.sort(reverse = True)\n",
        "  return unique_numbers[1]\n",
        "\n",
        "numbers = [5, 2, 8, 1, 9, 3, 3]\n",
        "second_largest_number = second_largest(numbers)\n",
        "print(\"Second largest number:\", second_largest_number)"
      ],
      "metadata": {
        "colab": {
          "base_uri": "https://localhost:8080/"
        },
        "id": "jL7E1Ji8yWR4",
        "outputId": "f8c4e80e-ce69-42eb-c0a0-05425501bcbb"
      },
      "execution_count": 19,
      "outputs": [
        {
          "output_type": "stream",
          "name": "stdout",
          "text": [
            "Second largest number: 8\n"
          ]
        }
      ]
    },
    {
      "cell_type": "code",
      "source": [
        "\"\"\"13. Create a code to count the occurrences of each element in a list and return a dictionary with elements as\n",
        "keys and their counts as values? \"\"\"\n",
        "\n",
        "def count_element(lst):\n",
        "    count_dict = {}\n",
        "    for item in lst:\n",
        "        if item in count_dict:\n",
        "            count_dict[item] += 1\n",
        "        else:\n",
        "            count_dict[item] = 1\n",
        "    return count_dict\n",
        "\n",
        "items = [\"Apple\", \"Banana\", \"Apple\", \"Orange\", \"Banana\", \"Apple\"]\n",
        "count_dict = count_element(items)\n",
        "print(\"Element counts:\", count_dict)\n"
      ],
      "metadata": {
        "colab": {
          "base_uri": "https://localhost:8080/"
        },
        "id": "h1d2prh3z5Ar",
        "outputId": "c2c14843-c8e8-45c3-e6a7-32c414c4784f"
      },
      "execution_count": 20,
      "outputs": [
        {
          "output_type": "stream",
          "name": "stdout",
          "text": [
            "Element counts: {'Apple': 3, 'Banana': 2, 'Orange': 1}\n"
          ]
        }
      ]
    },
    {
      "cell_type": "code",
      "source": [
        "#14. Write a code to reverse a list in-place without using any built-in reverse functions.\n",
        "\n",
        "def reverse_list_in_place(lst):\n",
        "  left = 0\n",
        "  right = len(lst) - 1\n",
        "\n",
        "  while left < right:\n",
        "\n",
        "    #swap element\n",
        "    lst[left], lst[right] = lst[right], lst[left]\n",
        "    left += 1\n",
        "    right -= 1\n",
        "    return lst\n",
        "\n",
        "numbers = [1, 2, 3, 4, 5]\n",
        "reverse_list_in_place(numbers)\n",
        "print(\"Reversed list:\", numbers)\n"
      ],
      "metadata": {
        "colab": {
          "base_uri": "https://localhost:8080/"
        },
        "id": "lnS0b3I22QfW",
        "outputId": "e4802dab-ea08-4692-a91e-ba66190a27e0"
      },
      "execution_count": 21,
      "outputs": [
        {
          "output_type": "stream",
          "name": "stdout",
          "text": [
            "Reversed list: [5, 2, 3, 4, 1]\n"
          ]
        }
      ]
    },
    {
      "cell_type": "code",
      "source": [
        "\"\"\"15. Implement a code to find and remove duplicates from a list while preserving the original order of\n",
        "elements. \"\"\"\n",
        "\n",
        "def remove_duplicates(lst):\n",
        "    seen = set()\n",
        "    result = []\n",
        "    for item in lst:\n",
        "        if item not in seen:\n",
        "            seen.add(item)\n",
        "            result.append(item)\n",
        "    return result\n",
        "\n",
        "items = [1, 2, 2, 3, 1, 4, 5, 3, 6, 7, 6, 8, 9, 10, 3, 4, 7, ]\n",
        "unique_items = remove_duplicates(items)\n",
        "print(\"List after removing duplicates:\", unique_items)"
      ],
      "metadata": {
        "colab": {
          "base_uri": "https://localhost:8080/"
        },
        "id": "yCkgJYdt3fSk",
        "outputId": "d9c4dae1-c219-4e65-8d43-9e682eebb7d6"
      },
      "execution_count": 24,
      "outputs": [
        {
          "output_type": "stream",
          "name": "stdout",
          "text": [
            "List after removing duplicates: [1, 2, 3, 4, 5, 6, 7, 8, 9, 10]\n"
          ]
        }
      ]
    },
    {
      "cell_type": "code",
      "source": [
        "#16. Create a code to check if a given list is sorted (either in ascending or descending order) or not.\n",
        "\n",
        "def check_sorted(lst):\n",
        "  if lst == sorted(lst):\n",
        "    return \"Ascending\"\n",
        "  elif lst == sorted(lst, reverse = True):\n",
        "    return \"Descending\"\n",
        "  else:\n",
        "    return \"Not sorted\"\n",
        "\n",
        "list =[\n",
        "\n",
        " [1, 2, 3, 4, 5],\n",
        " [1, 3, 2, 4, 5],\n",
        " [8, 3, 5, 4, 5]\n",
        "\n",
        "]\n",
        "\n",
        "for l in list:\n",
        "  print(f\"0rder of {l}: {check_sorted(l)}\")\n",
        "\n"
      ],
      "metadata": {
        "colab": {
          "base_uri": "https://localhost:8080/"
        },
        "id": "VZw3C14l4aeo",
        "outputId": "301c0712-f8e6-4ed7-846b-f47fcb9d9bcc"
      },
      "execution_count": 32,
      "outputs": [
        {
          "output_type": "stream",
          "name": "stdout",
          "text": [
            "0rder of [1, 2, 3, 4, 5]: Ascending\n",
            "0rder of [1, 3, 2, 4, 5]: Not sorted\n",
            "0rder of [8, 3, 5, 4, 5]: Not sorted\n"
          ]
        }
      ]
    },
    {
      "cell_type": "code",
      "source": [
        "#17. Write a code to merge two sorted lists into a single sorted list.\n",
        "\n",
        "def merge_sorted_lists(list1, list2):\n",
        "    return sorted(list1 + list2)\n",
        "\n",
        "list1 = [1, 3, 5, 7, 9]\n",
        "list2 = [2, 4, 6, 8, 10]\n",
        "merged_list = merge_sorted_lists(list1, list2)\n",
        "print(\"Merged and sorted list:\", merged_list)\n"
      ],
      "metadata": {
        "colab": {
          "base_uri": "https://localhost:8080/"
        },
        "id": "YA2l08Dd5iRo",
        "outputId": "99a1a590-4acc-4b57-f3f4-210953b6ff3d"
      },
      "execution_count": 59,
      "outputs": [
        {
          "output_type": "stream",
          "name": "stdout",
          "text": [
            "Merged and sorted list: [1, 2, 3, 4, 5, 6, 7, 8, 9, 10]\n"
          ]
        }
      ]
    },
    {
      "cell_type": "code",
      "source": [
        "#18. Implement a code to find the intersection of two given lists.\n",
        "\n",
        "def list_intersection_ordered(list1, list2):\n",
        "    result = []\n",
        "    seen = set(list2)  # For fast lookup\n",
        "    for item in list1:\n",
        "        if item in seen and item not in result:\n",
        "            result.append(item)\n",
        "    return result\n",
        "\n",
        "a = [1, 2, 3, 4, 5]\n",
        "b = [3, 4, 5, 6, 7]\n",
        "print(\"Ordered intersection:\", list_intersection_ordered(a, b))\n",
        "\n"
      ],
      "metadata": {
        "colab": {
          "base_uri": "https://localhost:8080/"
        },
        "id": "vytjD07J7SmW",
        "outputId": "a34cc005-6ae2-48a2-c59c-5835076da8ff"
      },
      "execution_count": 58,
      "outputs": [
        {
          "output_type": "stream",
          "name": "stdout",
          "text": [
            "Ordered intersection: [3, 4, 5]\n"
          ]
        }
      ]
    },
    {
      "cell_type": "code",
      "source": [
        "#19. Create a code to find the union of two lists without duplicates\n",
        "\n",
        "def union_no_duplicates(lst1, lst2):\n",
        "  result = []\n",
        "  for item in lst1:\n",
        "    if item not in result:\n",
        "      result.append(item)\n",
        "  for item in lst2:\n",
        "    if item not in result:\n",
        "      result.append(item)\n",
        "  return result\n",
        "\n",
        "list1 = [1, 2, 3, 4, 5]\n",
        "list2 = [4, 5, 6, 7, 8]\n",
        "union_list = union_no_duplicates(list1, list2)\n",
        "print(\"Union list without duplicates:\", union_list)"
      ],
      "metadata": {
        "colab": {
          "base_uri": "https://localhost:8080/"
        },
        "id": "7debr7418ZN-",
        "outputId": "bf8b3782-a03e-4e64-c951-9017b91cebf1"
      },
      "execution_count": 57,
      "outputs": [
        {
          "output_type": "stream",
          "name": "stdout",
          "text": [
            "Union list without duplicates: [1, 2, 3, 4, 5, 6, 7, 8]\n"
          ]
        }
      ]
    },
    {
      "cell_type": "code",
      "source": [
        "#20. Write a code to shuffle a given list randomly without using any built-in shuffle functions\n",
        "\n",
        "import random\n",
        "\n",
        "def easy_shuffle(lst):\n",
        "    for i in range(len(lst) - 1, 0, -1):\n",
        "\n",
        "      #pick a random index from 0 to i\n",
        "        j = random.randint(0, i)\n",
        "\n",
        "        #swap\n",
        "        lst[i], lst[j] = lst[j], lst[i]\n",
        "\n",
        "my_list = [1, 2, 3, 4, 5, 6, 7]\n",
        "easy_shuffle(my_list)\n",
        "print(\"Shuffled list:\", my_list)\n"
      ],
      "metadata": {
        "colab": {
          "base_uri": "https://localhost:8080/"
        },
        "id": "lATlOutA9s2P",
        "outputId": "8c6b3d43-6a56-4090-e98e-c1106f9ad097"
      },
      "execution_count": 61,
      "outputs": [
        {
          "output_type": "stream",
          "name": "stdout",
          "text": [
            "Shuffled list: [1, 3, 6, 4, 5, 2, 7]\n"
          ]
        }
      ]
    },
    {
      "cell_type": "code",
      "source": [
        "\"\"\"21. Write a code that takes two tuples as input and returns a new tuple containing elements that are\n",
        "common to both input tuples \"\"\"\n",
        "\n",
        "def common_elements(tuple1, tuple2):\n",
        "\n",
        "  #using intersection set\n",
        "    return tuple(set(tuple1) & set(tuple2))\n",
        "\n",
        "tup1 = (1, 2, 3, 4, 5)\n",
        "tup2 = (4, 5, 6, 7, 8)\n",
        "common_tup = common_elements(tup1, tup2)\n",
        "print(\"Common elements:\", common_tup)"
      ],
      "metadata": {
        "colab": {
          "base_uri": "https://localhost:8080/"
        },
        "id": "gnUPdDN4EZ3z",
        "outputId": "58b6ada3-4cb0-4b6e-c069-073497c54c56"
      },
      "execution_count": 65,
      "outputs": [
        {
          "output_type": "stream",
          "name": "stdout",
          "text": [
            "Common elements: (4, 5)\n"
          ]
        }
      ]
    },
    {
      "cell_type": "code",
      "source": [
        "\"\"\"22. Create a code that prompts the user to enter two sets of integers separated by commas. Then, print the\n",
        "intersection of these two sets \"\"\"\n",
        "\n",
        "input1 = input(\"Enter first set of integers separated by commas: \")\n",
        "input2 = input(\"Enter second set of integers separated by commas: \")\n",
        "\n",
        "#convert input string to sets of integers\n",
        "set1 = set(map(int, input1.split(',')))\n",
        "set2 = set(map(int, input2.split(',')))\n",
        "\n",
        "#find intersection\n",
        "intersection = set1.intersection(set2)\n",
        "\n",
        "\n",
        "print(\"Intersection of the two sets:\", intersection)"
      ],
      "metadata": {
        "colab": {
          "base_uri": "https://localhost:8080/"
        },
        "id": "EMv9AA1-GcMZ",
        "outputId": "f33a5cab-355a-495d-b377-3b8403ecfc54"
      },
      "execution_count": 66,
      "outputs": [
        {
          "output_type": "stream",
          "name": "stdout",
          "text": [
            "Enter first set of integers separated by commas: 1, 2, 3, 4, 5, 6\n",
            "Enter second set of integers separated by commas: 3, 4, 5, 6, 7\n",
            "Intersection of the two sets: {3, 4, 5, 6}\n"
          ]
        }
      ]
    },
    {
      "cell_type": "code",
      "source": [
        "\"\"\"23. Write a code to concatenate two tuples. The function should take two tuples as input and return a new\n",
        "tuple containing elements from both input tuples. \"\"\"\n",
        "\n",
        "def concatenate_tuples(tup_1, tup_2):\n",
        "    return tup_1 + tup_2\n",
        "\n",
        "tuple1 = (1, 2, 3)\n",
        "tuple2 = (4, 5, 6)\n",
        "result = concatenate_tuples(tuple1, tuple2)\n",
        "print(\"Concatenate tuple:\", result)\n"
      ],
      "metadata": {
        "colab": {
          "base_uri": "https://localhost:8080/"
        },
        "id": "lEEOx3EiIqps",
        "outputId": "b5c8787e-7b5d-4b6d-cd3b-1db562c940a2"
      },
      "execution_count": 67,
      "outputs": [
        {
          "output_type": "stream",
          "name": "stdout",
          "text": [
            "Concatenate tuple: (1, 2, 3, 4, 5, 6)\n"
          ]
        }
      ]
    },
    {
      "cell_type": "code",
      "source": [
        "\"\"\"24. Develop a code that prompts the user to input two sets of strings. Then, print the elements that are\n",
        "present in the first set but not in the second set.\"\"\"\n",
        "\n",
        "input_1 = input(\"Enter first set of strings separated by commas: \")\n",
        "input_2 = input(\"Enter second set of strings separated by commas: \")\n",
        "\n",
        "#convert inputs to sets of strings, stripping extra spaces\n",
        "set_1 = set(s.strip() for s in input_1.split(','))\n",
        "set_2 = set(s.strip() for s in input_2.split(','))\n",
        "\n",
        "#element in set_1 but not in set_2\n",
        "difference = set_1 - set_2\n",
        "\n",
        "print(f\"Elements in the first set but not in the second set: {difference}\")"
      ],
      "metadata": {
        "colab": {
          "base_uri": "https://localhost:8080/"
        },
        "id": "8HhxNautJl5q",
        "outputId": "41109c7f-9bf5-4c19-aefa-eaad3ab2ac27"
      },
      "execution_count": 68,
      "outputs": [
        {
          "output_type": "stream",
          "name": "stdout",
          "text": [
            "Enter first set of strings separated by commas: apple, banana, mango, cherry\n",
            "Enter second set of strings separated by commas: banana, cherry\n",
            "Elements in the first set but not in the second set: {'mango', 'apple'}\n"
          ]
        }
      ]
    },
    {
      "cell_type": "code",
      "source": [
        "\"\"\"25. Create a code that takes a tuple and two integers as input. The function should return a new tuple\n",
        "containing elements from the original tuple within the specified range of indices.\n",
        "\"\"\"\n",
        "\n",
        "def slice_tuple(original_tuple, start_index, end_index):\n",
        "    return original_tuple[start_index:end_index]\n",
        "\n",
        "my_tuple = (10, 20, 30, 40, 50, 60)\n",
        "start = int(input(\"Enter the start index:\"))\n",
        "end = int(input(\"Enter the end index: \"))\n",
        "\n",
        "result = slice_tuple(my_tuple, start, end)\n",
        "print(\"Sliced tuple:\", result)\n",
        "\n"
      ],
      "metadata": {
        "colab": {
          "base_uri": "https://localhost:8080/"
        },
        "id": "AopfFeS3LI2s",
        "outputId": "9c71989e-b750-4628-c017-956250714fad"
      },
      "execution_count": 72,
      "outputs": [
        {
          "output_type": "stream",
          "name": "stdout",
          "text": [
            "Enter the start index:1\n",
            "Enter the end index: 4\n",
            "Sliced tuple: (20, 30, 40)\n"
          ]
        }
      ]
    },
    {
      "cell_type": "code",
      "source": [
        "#26. Write a code that prompts the user to input two sets of characters. Then, print the union of these two sets\n",
        "\n",
        "input_chars_1 = input(\"Enter the first set of characters (comma-separated): \")\n",
        "input_chars_2 = input(\"Enter the second set of characters (comma-separated): \")\n",
        "\n",
        "# Convert to sets of characters, stripping any spaces\n",
        "char_set_1 = set(char.strip() for char in input_chars_1.split(','))\n",
        "char_set_2 = set(char.strip() for char in input_chars_2.split(','))\n",
        "\n",
        "# Find the union\n",
        "char_union = char_set_1.union(char_set_2)\n",
        "\n",
        "# Print the result\n",
        "print(\"Union of the two character sets:\", sorted(char_union))"
      ],
      "metadata": {
        "colab": {
          "base_uri": "https://localhost:8080/"
        },
        "id": "_7yMEI6gLnsR",
        "outputId": "a856c60c-ac38-4e45-be35-401b9b74c40f"
      },
      "execution_count": 77,
      "outputs": [
        {
          "output_type": "stream",
          "name": "stdout",
          "text": [
            "Enter the first set of characters (comma-separated): a, b, c\n",
            "Enter the second set of characters (comma-separated): c, d, e\n",
            "Union of the two character sets: ['a', 'b', 'c', 'd', 'e']\n"
          ]
        }
      ]
    },
    {
      "cell_type": "code",
      "source": [
        "\"\"\"27. Develop a code that takes a tuple of integers as input. The function should return the maximum and\n",
        "minimum values from the tuple using tuple unpacking\n",
        "\"\"\"\n",
        "\n",
        "def find_min_max(numbers_tuple):\n",
        "    min_value = min(numbers_tuple)\n",
        "    max_value = max(numbers_tuple)\n",
        "\n",
        "    #tuple unpacking\n",
        "    return min_value, max_value\n",
        "\n",
        "input_str = input(\"Enter a tuple of integers separated by commas: \")\n",
        "input_tuple = tuple(int(x.strip()) for x in input_str.split(',') if x.strip())\n",
        "\n",
        "\n",
        "#unpace the result\n",
        "min_value, max_value = find_min_max(input_tuple)\n",
        "\n",
        "print(f\"Minimum value: {min_value}\")\n",
        "print(f\"Maximum value: {max_value}\")"
      ],
      "metadata": {
        "colab": {
          "base_uri": "https://localhost:8080/"
        },
        "id": "XSwirmtqO_lV",
        "outputId": "bfc9a6f4-6282-4607-9b88-f91326e1fac2"
      },
      "execution_count": 79,
      "outputs": [
        {
          "output_type": "stream",
          "name": "stdout",
          "text": [
            "Enter a tuple of integers separated by commas: 10, 5, 30, 2, 19\n",
            "Minimum value: 2\n",
            "Maximum value: 30\n"
          ]
        }
      ]
    },
    {
      "cell_type": "code",
      "source": [
        "\"\"\"28. Create a code that defines two sets of integers. Then, print the union, intersection, and difference of these\n",
        "two sets. \"\"\"\n",
        "\n",
        "#define two sets of integers\n",
        "set_a = {1, 2, 3, 4, 5}\n",
        "set_b = {4, 5, 6, 7, 8}\n",
        "\n",
        "#perform set operations\n",
        "union_result = set_a.union(set_b)\n",
        "intersection_result = set_a.intersection(set_b)\n",
        "difference_a_b = set_a.difference(set_b)\n",
        "difference_b_a = set_b.difference(set_a)\n",
        "\n",
        "\n",
        "#print results\n",
        "print(\"Set A:\", set_a)\n",
        "print(\"Set B:\", set_b)\n",
        "print(\"Union:\", union_result)\n",
        "print(\"Intersection:\", intersection_result)\n",
        "print(\"Difference(A - B):\", difference_a_b)\n",
        "print(\"Difference(b - A):\", difference_b_a)"
      ],
      "metadata": {
        "colab": {
          "base_uri": "https://localhost:8080/"
        },
        "id": "FXYhxZwuQ3xU",
        "outputId": "114083fc-674f-4be5-d81e-27e5ae34cd2b"
      },
      "execution_count": 81,
      "outputs": [
        {
          "output_type": "stream",
          "name": "stdout",
          "text": [
            "Set A: {1, 2, 3, 4, 5}\n",
            "Set B: {4, 5, 6, 7, 8}\n",
            "Union: {1, 2, 3, 4, 5, 6, 7, 8}\n",
            "Intersection: {4, 5}\n",
            "Difference(A - B): {1, 2, 3}\n",
            "Difference(b - A): {8, 6, 7}\n"
          ]
        }
      ]
    },
    {
      "cell_type": "code",
      "source": [
        "\"\"\"29. Write a code that takes a tuple and an element as input. The function should return the count of\n",
        "occurrences of the given element in the tuple\n",
        "\"\"\"\n",
        "\n",
        "def count_element_in_tuple(tpl, element):\n",
        "    return tpl.count(element)\n",
        "\n",
        "input_str = input(\"Enter elements of the tuple separated by commas:\")\n",
        "input_tuple = tuple(item.strip() for item in input_str.split(',') if item.strip())\n",
        "\n",
        "element_to_count = input(\"Enter the element to count: \").strip()\n",
        "\n",
        "#count occurrences\n",
        "count = count_element_in_tuple(input_tuple, element_to_count)\n",
        "\n",
        "print(f\"The element '{element_to_count}' appears {count} time(s) in the tuple.\")\n",
        "\n"
      ],
      "metadata": {
        "colab": {
          "base_uri": "https://localhost:8080/"
        },
        "id": "J3WHJ3emTpS7",
        "outputId": "1fd02446-5ad6-43b8-be5e-1d63f0754f1b"
      },
      "execution_count": 87,
      "outputs": [
        {
          "output_type": "stream",
          "name": "stdout",
          "text": [
            "Enter elements of the tuple separated by commas:apple, banana, apple, cherry\n",
            "Enter the element to count: apple\n",
            "The element 'apple' appears 2 time(s) in the tuple.\n"
          ]
        }
      ]
    },
    {
      "cell_type": "code",
      "source": [
        "\"\"\"30.Develop a code that prompts the user to input two sets of strings. Then, print the symmetric difference of\n",
        "these two sets.\n",
        "\"\"\"\n",
        "\n",
        "user_input_1 = input(\"Enter the first set of strings separated by commas: \")\n",
        "user_input_2 = input(\"Enter the second set of strings separated by commas: \")\n",
        "\n",
        "\n",
        "#convert input to sets(removing extra spaces)\n",
        "string_set_1 = set(item.strip() for item in user_input_1.split(',')if item.strip())\n",
        "string_set_2 = set(item.strip() for item in user_input_2.split(',')if item.strip())\n",
        "\n",
        "#comput symmetric difference\n",
        "symmetric_difference = string_set_1.symmetric_difference(string_set_2)\n",
        "\n",
        "print(\"Symmetric difference of the two sets:\", symmetric_difference)"
      ],
      "metadata": {
        "colab": {
          "base_uri": "https://localhost:8080/"
        },
        "id": "zknE471vUKav",
        "outputId": "f918b04a-ed98-4a72-825f-4b7d7e9fdc08"
      },
      "execution_count": 91,
      "outputs": [
        {
          "output_type": "stream",
          "name": "stdout",
          "text": [
            "Enter the first set of strings separated by commas: apple, banana, mango\n",
            "Enter the second set of strings separated by commas: banana, cherry, mango\n",
            "Symmetric difference of the two sets: {'apple', 'cherry'}\n"
          ]
        }
      ]
    },
    {
      "cell_type": "code",
      "source": [
        "\"\"\"31. Write a code that takes a list of words as input and returns a dictionary where the keys are unique words\n",
        "and the values are the frequencies of those words in the input list.\n",
        "\"\"\"\n",
        "\n",
        "def count_word_frequencies(word_list):\n",
        "    word_freq = {}\n",
        "    for word in word_list:\n",
        "\n",
        "      #remove extrs spaces\n",
        "        word = word.strip()\n",
        "        word_freq[word] = word_freq.get(word, 0) + 1\n",
        "\n",
        "    return word_freq\n",
        "\n",
        "#user input\n",
        "input_str = input(\"Enter a list of words sparated by commas:\")\n",
        "words = input_str.split(',')\n",
        "\n",
        "#count frequencies\n",
        "frequency_dict = count_word_frequencies(words)\n",
        "\n",
        "print(\"Word Frequencies:\", frequency_dict)\n",
        "\n"
      ],
      "metadata": {
        "colab": {
          "base_uri": "https://localhost:8080/"
        },
        "id": "wcEY2N8eW5tZ",
        "outputId": "5c1361a1-8965-4509-fcb4-dda7dc21d2e9"
      },
      "execution_count": 92,
      "outputs": [
        {
          "output_type": "stream",
          "name": "stdout",
          "text": [
            "Enter a list of words sparated by commas:apple, banana, apple, cherry, banana\n",
            "Word Frequencies: {'apple': 2, 'banana': 2, 'cherry': 1}\n"
          ]
        }
      ]
    },
    {
      "cell_type": "code",
      "source": [
        "\"\"\"32. Write a code that takes two dictionaries as input and merges them into a single dictionary. If there are\n",
        "common keys, the values should be added together\n",
        "\"\"\"\n",
        "\n",
        "def merge_dictionaries(dict1, dict2):\n",
        "    merged_dict = dict1.copy() #start with dict1\n",
        "    for key, value in dict2.items():\n",
        "        if key in merged_dict:\n",
        "            merged_dict[key] += value  #add values if key exists in both\n",
        "        else:\n",
        "          merged_dict[key] = value  # add new key-value pair\n",
        "    return merged_dict\n",
        "\n",
        "\n",
        "#input(you cna replace this with actual input)\n",
        "dict1 = {'a': 1, 'b': 2, 'c': 3}\n",
        "dict2 = {'b': 4, 'c': 5, 'd': 6}\n",
        "\n",
        "#merge and print\n",
        "result = merge_dictionaries(dict1, dict2)\n",
        "print(\"Merged dictionary:\", result)"
      ],
      "metadata": {
        "colab": {
          "base_uri": "https://localhost:8080/"
        },
        "id": "UyLlNwBnb6fx",
        "outputId": "4f38202f-3709-4f6d-abfc-3cb3a7c3e5a5"
      },
      "execution_count": 94,
      "outputs": [
        {
          "output_type": "stream",
          "name": "stdout",
          "text": [
            "Merged dictionary: {'a': 1, 'b': 6, 'c': 8, 'd': 6}\n"
          ]
        }
      ]
    },
    {
      "cell_type": "code",
      "source": [
        "\"\"\"33. Write a code to access a value in a nested dictionary. The function should take the dictionary and a list of\n",
        "keys as input, and return the corresponding value. If any of the keys do not exist in the dictionary, the\n",
        "function should return None\n",
        "\"\"\"\n",
        "\n",
        "def access_nested_value(nested_dict, keys):\n",
        "    current = nested_dict\n",
        "    for key in keys:\n",
        "        if isinstance(current, dict) and key in current:\n",
        "            current = current[key]\n",
        "        else:\n",
        "          return None\n",
        "    return current\n",
        "\n",
        "#nested dictionary\n",
        "nested_dict = {\n",
        "    'person': {\n",
        "        'info': {\n",
        "            'name': 'John',\n",
        "            'age': 25\n",
        "        }\n",
        "    }\n",
        "}\n",
        "\n",
        "#keys to access\n",
        "key_path = ['person', 'info', 'name']\n",
        "\n",
        "result = access_nested_value(nested_dict, key_path)\n",
        "print(\"Value:\", result)\n",
        "\n",
        "\n"
      ],
      "metadata": {
        "colab": {
          "base_uri": "https://localhost:8080/"
        },
        "id": "mcIfqszjdnWj",
        "outputId": "be076ffb-8475-442f-c1c7-a805e92cb9ba"
      },
      "execution_count": 97,
      "outputs": [
        {
          "output_type": "stream",
          "name": "stdout",
          "text": [
            "Value: John\n"
          ]
        }
      ]
    },
    {
      "cell_type": "code",
      "source": [
        "# key missing value\n",
        "\n",
        "def access_nested_value(nested_dict, keys):\n",
        "    current = nested_dict\n",
        "    for key in keys:\n",
        "        if isinstance(current, dict) and key in current:\n",
        "            current = current[key]\n",
        "        else:\n",
        "          return None\n",
        "    return current\n",
        "\n",
        "#nested dictionary\n",
        "nested_dict = {\n",
        "    'person': {\n",
        "        'info': {\n",
        "            'name': 'John',\n",
        "            'age': 25\n",
        "        }\n",
        "    }\n",
        "}\n",
        "\n",
        "#keys to access\n",
        "key_path = ['user', 'profile', 'email']\n",
        "value = access_nested_value(nested_dict, key_path)\n",
        "print(value)"
      ],
      "metadata": {
        "colab": {
          "base_uri": "https://localhost:8080/"
        },
        "id": "jVx0eQi9egBw",
        "outputId": "afa1f459-453a-4e26-d5f6-7cc44eee9964"
      },
      "execution_count": 98,
      "outputs": [
        {
          "output_type": "stream",
          "name": "stdout",
          "text": [
            "None\n"
          ]
        }
      ]
    },
    {
      "cell_type": "code",
      "source": [
        "\"\"\"34. Write a code that takes a dictionary as input and returns a sorted version of it based on the values. You\n",
        "can choose whether to sort in ascending or descending order\n",
        "\"\"\"\n",
        "\n",
        "def sort_dict_by_values(input_dict, descending=False):\n",
        "    # Sort the dictionary by values\n",
        "    sorted_items = sorted(input_dict.items(), key=lambda item: item[1], reverse=descending)\n",
        "    return dict(sorted_items)\n",
        "\n",
        "# dictionary\n",
        "my_dict = {'apple': 3, 'banana': 1, 'cherry': 5, 'date': 2}\n",
        "\n",
        "# Ascending order\n",
        "sorted_asc = sort_dict_by_values(my_dict)\n",
        "print(\"Ascending:\", sorted_asc)\n",
        "\n",
        "# Descending order\n",
        "sorted_desc = sort_dict_by_values(my_dict, descending=True)\n",
        "print(\"Descending:\", sorted_desc)\n"
      ],
      "metadata": {
        "colab": {
          "base_uri": "https://localhost:8080/"
        },
        "id": "OxCt-1Y5gtSB",
        "outputId": "25761792-56a9-4ca4-f5eb-bd202f8c4765"
      },
      "execution_count": 100,
      "outputs": [
        {
          "output_type": "stream",
          "name": "stdout",
          "text": [
            "Ascending: {'banana': 1, 'date': 2, 'apple': 3, 'cherry': 5}\n",
            "Descending: {'cherry': 5, 'apple': 3, 'date': 2, 'banana': 1}\n"
          ]
        }
      ]
    },
    {
      "cell_type": "code",
      "source": [
        "\"\"\"35. Write a code that inverts a dictionary, swapping keys and values. Ensure that the inverted dictionary\n",
        "correctly handles cases where multiple keys have the same value by storing the keys as a list in the\n",
        "inverted dictionary.\n",
        "\"\"\"\n",
        "\n",
        "def invert_dict(d):\n",
        "    inverted = {}\n",
        "    for key, value in d.items():\n",
        "        if value in inverted:\n",
        "            inverted[value].append(key)\n",
        "        else:\n",
        "            inverted[value] = [key]\n",
        "    return inverted\n",
        "\n",
        "\n",
        "original_dict = {\n",
        "    'a': 1,\n",
        "    'b': 2,\n",
        "    'c': 1,\n",
        "    'd': 3,\n",
        "    'e': 2\n",
        "}\n",
        "\n",
        "inverted = invert_dict(original_dict)\n",
        "print(\"Inverted dictionary:\", inverted)"
      ],
      "metadata": {
        "colab": {
          "base_uri": "https://localhost:8080/"
        },
        "id": "CZQ3gziEg7yJ",
        "outputId": "81de3473-0225-47aa-aeab-8a5eef5e013f"
      },
      "execution_count": 101,
      "outputs": [
        {
          "output_type": "stream",
          "name": "stdout",
          "text": [
            "Inverted dictionary: {1: ['a', 'c'], 2: ['b', 'e'], 3: ['d']}\n"
          ]
        }
      ]
    },
    {
      "cell_type": "code",
      "source": [],
      "metadata": {
        "id": "purLOqvUhpol"
      },
      "execution_count": null,
      "outputs": []
    }
  ]
}